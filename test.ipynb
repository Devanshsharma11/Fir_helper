{
 "cells": [
  {
   "cell_type": "code",
   "execution_count": 1,
   "metadata": {},
   "outputs": [
    {
     "name": "stderr",
     "output_type": "stream",
     "text": [
      "/Library/Frameworks/Python.framework/Versions/3.12/lib/python3.12/site-packages/sentence_transformers/cross_encoder/CrossEncoder.py:11: TqdmExperimentalWarning: Using `tqdm.autonotebook.tqdm` in notebook mode. Use `tqdm.tqdm` instead to force console mode (e.g. in jupyter console)\n",
      "  from tqdm.autonotebook import tqdm, trange\n"
     ]
    }
   ],
   "source": [
    "import re\n",
    "from nltk.tokenize import word_tokenize\n",
    "from nltk.corpus import stopwords\n",
    "from nltk.stem import PorterStemmer\n",
    "from sklearn.feature_extraction.text import TfidfVectorizer\n",
    "from sklearn.metrics.pairwise import cosine_similarity\n",
    "from sentence_transformers import SentenceTransformer, util\n",
    "import pandas as pd\n",
    "import pickle"
   ]
  },
  {
   "cell_type": "code",
   "execution_count": 2,
   "metadata": {},
   "outputs": [],
   "source": [
    "def preprocess_text(text):\n",
    "    text = text.lower()\n",
    "    words = word_tokenize(text)\n",
    "    stop_words = set(stopwords.words('english'))\n",
    "    words = [word for word in words if word not in stop_words]\n",
    "    stemmer = PorterStemmer()\n",
    "    words = [stemmer.stem(word) for word in words]\n",
    "    preprocessed_text = ' '.join(words)\n",
    "    return preprocessed_text\n",
    "\n",
    "# Load and Preprocess Data\n",
    "try:\n",
    "    ds = pd.read_csv('/Users/devanshsharma/Downloads/FIR-DATA.csv')\n",
    "except UnicodeDecodeError as err:\n",
    "    print(f\"Error: {err}\")\n",
    "\n",
    "ds.fillna(\"Not mentioned\", inplace=True)\n",
    "ds['combo'] = ds['Description'] + \" \" + ds['Offense']\n",
    "ds['combo'] = ds['combo'].apply(preprocess_text)\n",
    "\n",
    "# Save and Load Preprocessed Data\n",
    "new_ds = ds[['Description', 'Offense', 'Punishment', 'Cognizable', 'Bailable', 'Court', 'combo']]\n",
    "with open('preprocess_data.pkl', 'wb') as file:\n",
    "    pickle.dump(new_ds, file)\n",
    "new_ds = pickle.load(open('preprocess_data.pkl', 'rb'))\n",
    "\n",
    "# Initialize Model\n",
    "model = SentenceTransformer('paraphrase-MiniLM-L6-v2')"
   ]
  },
  {
   "cell_type": "code",
   "execution_count": 3,
   "metadata": {},
   "outputs": [],
   "source": [
    "# Suggest Sections Function\n",
    "def suggest_sections(complaint, dataset, min_suggestions=5):\n",
    "    preprocessed_complaint = preprocess_text(complaint)\n",
    "    complaint_embedding = model.encode(preprocessed_complaint)#used to convert complaint into vector\n",
    "    section_embedding = model.encode(dataset['combo'].tolist())#used to convert fir dataset into vector \n",
    "    similarities = util.pytorch_cos_sim(complaint_embedding, section_embedding)[0]#applying cos_sim algo.    \n",
    "    similarity_threshold = 0.2#similarity thershold is 20% means data should be similar more the 20%\n",
    "    relevant_indices = []\n",
    "\n",
    "    while len(relevant_indices) < min_suggestions and similarity_threshold > 0:\n",
    "        relevant_indices = [i for i, sim in enumerate(similarities) if sim > similarity_threshold]\n",
    "        similarity_threshold -= 0.05  # Decrease threshold slowly\n",
    "\n",
    "    sorted_indices = sorted(relevant_indices, key=lambda i: similarities[i], reverse=True)\n",
    "    suggestions = dataset.iloc[sorted_indices][['Description', 'Offense', 'Punishment', 'Cognizable', 'Bailable', 'Court', 'combo']].to_dict(orient='records')\n",
    "    \n",
    "    return suggestions#basically ye function hame sort karne me help kar raha hai to find max similarity wali fir\n",
    "\n",
    "# Input and Display Suggestions\n",
    "complaint = input(\"Enter Crime Description: \")\n",
    "suggest_section = suggest_sections(complaint, new_ds)\n",
    "\n",
    "if suggest_section:\n",
    "    print(\"Suggested sections are:\")\n",
    "    for suggestion in suggest_section:\n",
    "       print(f\"Description: {suggestion['Description']}\")\n",
    "       print()  # Line break\n",
    "       print(f\"Offense: {suggestion['Offense']}\")\n",
    "       print()  # Line break\n",
    "       print(f\"Punishment: {suggestion['Punishment']}\")\n",
    "       print(\"--------------------------------------------------------------------------------------------------------------------------------------------------\")\n",
    "\n",
    "else:\n",
    "    print(\"No relevant sections found.\")\n"
   ]
  }
 ],
 "metadata": {
  "kernelspec": {
   "display_name": "Python 3",
   "language": "python",
   "name": "python3"
  },
  "language_info": {
   "codemirror_mode": {
    "name": "ipython",
    "version": 3
   },
   "file_extension": ".py",
   "mimetype": "text/x-python",
   "name": "python",
   "nbconvert_exporter": "python",
   "pygments_lexer": "ipython3",
   "version": "3.12.5"
  }
 },
 "nbformat": 4,
 "nbformat_minor": 2
}
